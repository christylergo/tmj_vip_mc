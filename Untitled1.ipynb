{
 "cells": [
  {
   "cell_type": "code",
   "execution_count": 1,
   "id": "63af85c7",
   "metadata": {},
   "outputs": [],
   "source": [
    "import threading"
   ]
  },
  {
   "cell_type": "code",
   "execution_count": 99,
   "id": "c8e3ad13",
   "metadata": {},
   "outputs": [],
   "source": [
    "class A:\n",
    "    files = ['newfile','formerfile']\n",
    "    name = 'huahua'\n",
    "    age = 18\n",
    "    mutex = threading.Lock()\n",
    "    @classmethod\n",
    "    def modify_class(cls):\n",
    "#         cls.files = 'newfile'\n",
    "        cls.mutex.acquire()\n",
    "        cls.name = 'xiaohua'\n",
    "        cls.mutex.release()\n",
    "    def __init__(self):\n",
    "        self.name = self.name\n",
    "#         self.name = 'rose'\n",
    "        self.mutex =self.mutex\n",
    "        self.files = ['newfile', 'xiaohuahua']\n",
    "#         self.modify_class()\n",
    "#         self.mutex.acquire()\n",
    "#         self.mutex.release()\n",
    "        \n",
    "a = A()"
   ]
  },
  {
   "cell_type": "code",
   "execution_count": 100,
   "id": "0405f877",
   "metadata": {},
   "outputs": [
    {
     "name": "stdout",
     "output_type": "stream",
     "text": [
      "huahua : huahua\n"
     ]
    }
   ],
   "source": [
    "print(A.name,':',a.name)"
   ]
  },
  {
   "cell_type": "code",
   "execution_count": 101,
   "id": "28c5da5f",
   "metadata": {},
   "outputs": [
    {
     "name": "stdout",
     "output_type": "stream",
     "text": [
      "huahua : xiaoli\n"
     ]
    }
   ],
   "source": [
    "a.name = 'xiaoli'\n",
    "print(A.name,':',a.name)"
   ]
  },
  {
   "cell_type": "code",
   "execution_count": 102,
   "id": "3031205d",
   "metadata": {},
   "outputs": [
    {
     "name": "stdout",
     "output_type": "stream",
     "text": [
      "1616568109984\n"
     ]
    }
   ],
   "source": [
    "print(id(A.mutex))"
   ]
  },
  {
   "cell_type": "code",
   "execution_count": 103,
   "id": "7fae5bf9",
   "metadata": {},
   "outputs": [
    {
     "name": "stdout",
     "output_type": "stream",
     "text": [
      "1616568109984\n"
     ]
    }
   ],
   "source": [
    "a.mutex.acquire()\n",
    "a.mutex.release()\n",
    "print(id(a.mutex))\n",
    "a.files[1]='dahuahua'\n",
    "# a.files.append( 'little')"
   ]
  },
  {
   "cell_type": "code",
   "execution_count": 104,
   "id": "9c9e46da",
   "metadata": {},
   "outputs": [
    {
     "data": {
      "text/plain": [
       "['newfile', 'formerfile']"
      ]
     },
     "execution_count": 104,
     "metadata": {},
     "output_type": "execute_result"
    }
   ],
   "source": [
    "A.files"
   ]
  },
  {
   "cell_type": "code",
   "execution_count": 105,
   "id": "6cab4000",
   "metadata": {},
   "outputs": [
    {
     "data": {
      "text/plain": [
       "['newfile', 'dahuahua']"
      ]
     },
     "execution_count": 105,
     "metadata": {},
     "output_type": "execute_result"
    }
   ],
   "source": [
    "a.files"
   ]
  },
  {
   "cell_type": "code",
   "execution_count": 107,
   "id": "00f6b61c",
   "metadata": {},
   "outputs": [],
   "source": [
    "a.files[1]='up'"
   ]
  },
  {
   "cell_type": "code",
   "execution_count": 108,
   "id": "6173751b",
   "metadata": {},
   "outputs": [
    {
     "data": {
      "text/plain": [
       "['newfile', 'up']"
      ]
     },
     "execution_count": 108,
     "metadata": {},
     "output_type": "execute_result"
    }
   ],
   "source": [
    "a.files"
   ]
  },
  {
   "cell_type": "code",
   "execution_count": 109,
   "id": "4f34431e",
   "metadata": {},
   "outputs": [
    {
     "data": {
      "text/plain": [
       "['newfile', 'formerfile']"
      ]
     },
     "execution_count": 109,
     "metadata": {},
     "output_type": "execute_result"
    }
   ],
   "source": [
    "A.files"
   ]
  },
  {
   "cell_type": "code",
   "execution_count": 110,
   "id": "bde1fe0a",
   "metadata": {},
   "outputs": [],
   "source": [
    "a.files.append('add')"
   ]
  },
  {
   "cell_type": "code",
   "execution_count": 111,
   "id": "e5377085",
   "metadata": {},
   "outputs": [
    {
     "data": {
      "text/plain": [
       "['newfile', 'up', 'add']"
      ]
     },
     "execution_count": 111,
     "metadata": {},
     "output_type": "execute_result"
    }
   ],
   "source": [
    "a.files"
   ]
  },
  {
   "cell_type": "code",
   "execution_count": 112,
   "id": "633aaa6a",
   "metadata": {},
   "outputs": [
    {
     "data": {
      "text/plain": [
       "['newfile', 'formerfile']"
      ]
     },
     "execution_count": 112,
     "metadata": {},
     "output_type": "execute_result"
    }
   ],
   "source": [
    "A.files"
   ]
  },
  {
   "cell_type": "code",
   "execution_count": null,
   "id": "0020ac8e",
   "metadata": {},
   "outputs": [],
   "source": []
  }
 ],
 "metadata": {
  "kernelspec": {
   "display_name": "Python 3 (ipykernel)",
   "language": "python",
   "name": "python3"
  },
  "language_info": {
   "codemirror_mode": {
    "name": "ipython",
    "version": 3
   },
   "file_extension": ".py",
   "mimetype": "text/x-python",
   "name": "python",
   "nbconvert_exporter": "python",
   "pygments_lexer": "ipython3",
   "version": "3.8.0"
  }
 },
 "nbformat": 4,
 "nbformat_minor": 5
}
