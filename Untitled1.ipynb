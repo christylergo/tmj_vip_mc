{
 "cells": [
  {
   "cell_type": "code",
   "execution_count": 28,
   "id": "9b60900b",
   "metadata": {},
   "outputs": [],
   "source": [
    "from pathlib import Path\n",
    "import time\n",
    "import datetime"
   ]
  },
  {
   "cell_type": "code",
   "execution_count": 46,
   "id": "0815ec69",
   "metadata": {},
   "outputs": [],
   "source": [
    "aa = Path(r'C:\\Users\\Administrator\\Desktop\\唯品新工具开发相关资料')"
   ]
  },
  {
   "cell_type": "code",
   "execution_count": 47,
   "id": "a437f995",
   "metadata": {},
   "outputs": [
    {
     "name": "stdout",
     "output_type": "stream",
     "text": [
      "Wed May 11 09:55:49 2022\n",
      "Wed May 11 09:55:49 2022\n"
     ]
    }
   ],
   "source": [
    "for ll in aa.glob('*扣减*.xlsx'):\n",
    "    print(time.ctime(ll.stat().st_mtime))"
   ]
  },
  {
   "cell_type": "code",
   "execution_count": 55,
   "id": "f07eac2c",
   "metadata": {},
   "outputs": [],
   "source": [
    "cc = datetime.datetime.fromtimestamp(ll.stat().st_mtime)"
   ]
  },
  {
   "cell_type": "code",
   "execution_count": 56,
   "id": "2b2f745b",
   "metadata": {},
   "outputs": [
    {
     "name": "stdout",
     "output_type": "stream",
     "text": [
      "2022-05-11 09:55:49.889056\n"
     ]
    }
   ],
   "source": [
    "print(cc)"
   ]
  },
  {
   "cell_type": "code",
   "execution_count": null,
   "id": "9f424383",
   "metadata": {},
   "outputs": [],
   "source": []
  }
 ],
 "metadata": {
  "kernelspec": {
   "display_name": "Python 3 (ipykernel)",
   "language": "python",
   "name": "python3"
  },
  "language_info": {
   "codemirror_mode": {
    "name": "ipython",
    "version": 3
   },
   "file_extension": ".py",
   "mimetype": "text/x-python",
   "name": "python",
   "nbconvert_exporter": "python",
   "pygments_lexer": "ipython3",
   "version": "3.8.0"
  }
 },
 "nbformat": 4,
 "nbformat_minor": 5
}
