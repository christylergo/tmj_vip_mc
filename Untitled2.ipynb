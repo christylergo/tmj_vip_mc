{
 "cells": [
  {
   "cell_type": "code",
   "execution_count": 19,
   "id": "1753ae0b",
   "metadata": {},
   "outputs": [],
   "source": [
    "import numpy as np\n",
    "import pandas as pd\n",
    "import datetime"
   ]
  },
  {
   "cell_type": "code",
   "execution_count": 117,
   "id": "a260dee7",
   "metadata": {},
   "outputs": [],
   "source": [
    "doc_df = pd.read_excel(r'vip_docs/测试.xlsx',\n",
    "                       usecols=[\"条码\",\"日期\",\"销售量\"])"
   ]
  },
  {
   "cell_type": "code",
   "execution_count": 108,
   "id": "2586e004",
   "metadata": {},
   "outputs": [],
   "source": [
    "# dd = doc_df.head()\n",
    "# ff = dd.assign(newdate =lambda x: pd.to_datetime(x['日期']))"
   ]
  },
  {
   "cell_type": "code",
   "execution_count": 118,
   "id": "075a846b",
   "metadata": {},
   "outputs": [
    {
     "name": "stdout",
     "output_type": "stream",
     "text": [
      "True\n"
     ]
    }
   ],
   "source": [
    "cc = pd.to_datetime('2022-05-10',format='%Y/%m/%d')\n",
    "# ee = cc.date()\n",
    "# print(dir(datetime.datetime))\n",
    "# print(ff.iloc[0,3])\n",
    "ee = pd.DataFrame()\n",
    "hh = pd.concat([doc_df,ee],axis=0)\n",
    "print(ee.empty)"
   ]
  },
  {
   "cell_type": "code",
   "execution_count": 119,
   "id": "565465ab",
   "metadata": {},
   "outputs": [
    {
     "data": {
      "text/html": [
       "<div>\n",
       "<style scoped>\n",
       "    .dataframe tbody tr th:only-of-type {\n",
       "        vertical-align: middle;\n",
       "    }\n",
       "\n",
       "    .dataframe tbody tr th {\n",
       "        vertical-align: top;\n",
       "    }\n",
       "\n",
       "    .dataframe thead th {\n",
       "        text-align: right;\n",
       "    }\n",
       "</style>\n",
       "<table border=\"1\" class=\"dataframe\">\n",
       "  <thead>\n",
       "    <tr style=\"text-align: right;\">\n",
       "      <th></th>\n",
       "      <th>条码</th>\n",
       "      <th>日期</th>\n",
       "      <th>销售量</th>\n",
       "    </tr>\n",
       "  </thead>\n",
       "  <tbody>\n",
       "    <tr>\n",
       "      <th>0</th>\n",
       "      <td>6954864708753</td>\n",
       "      <td>2022-05-10</td>\n",
       "      <td>539</td>\n",
       "    </tr>\n",
       "    <tr>\n",
       "      <th>1</th>\n",
       "      <td>6954864700078</td>\n",
       "      <td>2022-05-10</td>\n",
       "      <td>270</td>\n",
       "    </tr>\n",
       "    <tr>\n",
       "      <th>2</th>\n",
       "      <td>SHLMX002</td>\n",
       "      <td>2022-05-10</td>\n",
       "      <td>444</td>\n",
       "    </tr>\n",
       "    <tr>\n",
       "      <th>3</th>\n",
       "      <td>shiyue523</td>\n",
       "      <td>2022-05-10</td>\n",
       "      <td>470</td>\n",
       "    </tr>\n",
       "    <tr>\n",
       "      <th>4</th>\n",
       "      <td>shiyue114</td>\n",
       "      <td>2022-05-10</td>\n",
       "      <td>356</td>\n",
       "    </tr>\n",
       "    <tr>\n",
       "      <th>5</th>\n",
       "      <td>shiyue57</td>\n",
       "      <td>2022-05-10</td>\n",
       "      <td>252</td>\n",
       "    </tr>\n",
       "  </tbody>\n",
       "</table>\n",
       "</div>"
      ],
      "text/plain": [
       "              条码          日期  销售量\n",
       "0  6954864708753  2022-05-10  539\n",
       "1  6954864700078  2022-05-10  270\n",
       "2       SHLMX002  2022-05-10  444\n",
       "3      shiyue523  2022-05-10  470\n",
       "4      shiyue114  2022-05-10  356\n",
       "5       shiyue57  2022-05-10  252"
      ]
     },
     "execution_count": 119,
     "metadata": {},
     "output_type": "execute_result"
    }
   ],
   "source": [
    "hh"
   ]
  },
  {
   "cell_type": "code",
   "execution_count": null,
   "id": "a629d854",
   "metadata": {},
   "outputs": [],
   "source": []
  }
 ],
 "metadata": {
  "kernelspec": {
   "display_name": "Python 3 (ipykernel)",
   "language": "python",
   "name": "python3"
  },
  "language_info": {
   "codemirror_mode": {
    "name": "ipython",
    "version": 3
   },
   "file_extension": ".py",
   "mimetype": "text/x-python",
   "name": "python",
   "nbconvert_exporter": "python",
   "pygments_lexer": "ipython3",
   "version": "3.8.0"
  }
 },
 "nbformat": 4,
 "nbformat_minor": 5
}
