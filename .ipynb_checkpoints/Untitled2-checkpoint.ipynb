{
 "cells": [
  {
   "cell_type": "code",
   "execution_count": 19,
   "id": "eeb278d5",
   "metadata": {},
   "outputs": [],
   "source": [
    "import numpy as np\n",
    "import pandas as pd\n",
    "import datetime"
   ]
  },
  {
   "cell_type": "code",
   "execution_count": 112,
   "id": "ab95a91f",
   "metadata": {},
   "outputs": [],
   "source": [
    "doc_df = pd.read_excel(r'vip_docs/测试.xlsx',\n",
    "                       usecols=[\"条码\",\"日期\",\"销售量\"])"
   ]
  },
  {
   "cell_type": "code",
   "execution_count": 108,
   "id": "bfe3f109",
   "metadata": {},
   "outputs": [],
   "source": [
    "# dd = doc_df.head()\n",
    "# ff = dd.assign(newdate =lambda x: pd.to_datetime(x['日期']))"
   ]
  },
  {
   "cell_type": "code",
   "execution_count": 115,
   "id": "aeef3fa2",
   "metadata": {},
   "outputs": [
    {
     "name": "stdout",
     "output_type": "stream",
     "text": [
      "True\n"
     ]
    }
   ],
   "source": [
    "cc = pd.to_datetime('2022-05-10',format='%Y/%m/%d')\n",
    "# ee = cc.date()\n",
    "# print(dir(datetime.datetime))\n",
    "# print(ff.iloc[0,3])\n",
    "ee = pd.DataFrame()\n",
    "hh = pd.concat([doc_df,ee],axis=0)\n",
    "print(ee.empty)"
   ]
  },
  {
   "cell_type": "code",
   "execution_count": null,
   "id": "1a67f9e4",
   "metadata": {},
   "outputs": [],
   "source": []
  }
 ],
 "metadata": {
  "kernelspec": {
   "display_name": "Python 3 (ipykernel)",
   "language": "python",
   "name": "python3"
  },
  "language_info": {
   "codemirror_mode": {
    "name": "ipython",
    "version": 3
   },
   "file_extension": ".py",
   "mimetype": "text/x-python",
   "name": "python",
   "nbconvert_exporter": "python",
   "pygments_lexer": "ipython3",
   "version": "3.8.0"
  }
 },
 "nbformat": 4,
 "nbformat_minor": 5
}
