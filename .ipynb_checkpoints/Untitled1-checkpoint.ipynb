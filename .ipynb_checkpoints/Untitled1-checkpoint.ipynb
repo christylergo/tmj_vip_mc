{
 "cells": [
  {
   "cell_type": "code",
   "execution_count": 1,
   "id": "647368a5",
   "metadata": {},
   "outputs": [],
   "source": [
    "import threading"
   ]
  },
  {
   "cell_type": "code",
   "execution_count": 28,
   "id": "f02834e8",
   "metadata": {},
   "outputs": [
    {
     "ename": "AttributeError",
     "evalue": "'_thread.lock' object has no attribute 'aquaire'",
     "output_type": "error",
     "traceback": [
      "\u001b[1;31m-----------------------------------------------------------------------\u001b[0m",
      "\u001b[1;31mAttributeError\u001b[0m                        Traceback (most recent call last)",
      "Input \u001b[1;32mIn [28]\u001b[0m, in \u001b[0;36m<module>\u001b[1;34m\u001b[0m\n\u001b[0;32m     17\u001b[0m         \u001b[38;5;28mself\u001b[39m\u001b[38;5;241m.\u001b[39mmutex\u001b[38;5;241m.\u001b[39maquaire()\n\u001b[0;32m     18\u001b[0m         \u001b[38;5;28mself\u001b[39m\u001b[38;5;241m.\u001b[39mmutex\u001b[38;5;241m.\u001b[39mrelease()\n\u001b[1;32m---> 20\u001b[0m a \u001b[38;5;241m=\u001b[39m \u001b[43mA\u001b[49m\u001b[43m(\u001b[49m\u001b[43m)\u001b[49m\n",
      "Input \u001b[1;32mIn [28]\u001b[0m, in \u001b[0;36mA.__init__\u001b[1;34m(self)\u001b[0m\n\u001b[0;32m     15\u001b[0m \u001b[38;5;28mself\u001b[39m\u001b[38;5;241m.\u001b[39mmutex \u001b[38;5;241m=\u001b[39m\u001b[38;5;28mself\u001b[39m\u001b[38;5;241m.\u001b[39mmutex\n\u001b[0;32m     16\u001b[0m \u001b[38;5;28mself\u001b[39m\u001b[38;5;241m.\u001b[39mmodify_class()\n\u001b[1;32m---> 17\u001b[0m \u001b[38;5;28;43mself\u001b[39;49m\u001b[38;5;241;43m.\u001b[39;49m\u001b[43mmutex\u001b[49m\u001b[38;5;241;43m.\u001b[39;49m\u001b[43maquaire\u001b[49m()\n\u001b[0;32m     18\u001b[0m \u001b[38;5;28mself\u001b[39m\u001b[38;5;241m.\u001b[39mmutex\u001b[38;5;241m.\u001b[39mrelease()\n",
      "\u001b[1;31mAttributeError\u001b[0m: '_thread.lock' object has no attribute 'aquaire'"
     ]
    },
    {
     "name": "stderr",
     "output_type": "stream",
     "text": [
      "--- Logging error ---\n",
      "Traceback (most recent call last):\n",
      "  File \"c:\\python38\\lib\\site-packages\\ipykernel\\kernelbase.py\", line 461, in dispatch_queue\n",
      "    await self.process_one()\n",
      "  File \"c:\\python38\\lib\\site-packages\\ipykernel\\kernelbase.py\", line 450, in process_one\n",
      "    await dispatch(*args)\n",
      "TypeError: object NoneType can't be used in 'await' expression\n",
      "\n",
      "During handling of the above exception, another exception occurred:\n",
      "\n",
      "Traceback (most recent call last):\n",
      "  File \"c:\\python38\\lib\\logging\\__init__.py\", line 1085, in emit\n",
      "    self.flush()\n",
      "  File \"c:\\python38\\lib\\logging\\__init__.py\", line 1065, in flush\n",
      "    self.stream.flush()\n",
      "OSError: [Errno 22] Invalid argument\n",
      "Call stack:\n",
      "  File \"c:\\python38\\lib\\runpy.py\", line 192, in _run_module_as_main\n",
      "    return _run_code(code, main_globals, None,\n",
      "  File \"c:\\python38\\lib\\runpy.py\", line 85, in _run_code\n",
      "    exec(code, run_globals)\n",
      "  File \"c:\\python38\\lib\\site-packages\\ipykernel_launcher.py\", line 16, in <module>\n",
      "    app.launch_new_instance()\n",
      "  File \"c:\\python38\\lib\\site-packages\\traitlets\\config\\application.py\", line 846, in launch_instance\n",
      "    app.start()\n",
      "  File \"c:\\python38\\lib\\site-packages\\ipykernel\\kernelapp.py\", line 677, in start\n",
      "    self.io_loop.start()\n",
      "  File \"c:\\python38\\lib\\site-packages\\tornado\\platform\\asyncio.py\", line 199, in start\n",
      "    self.asyncio_loop.run_forever()\n",
      "  File \"c:\\python38\\lib\\asyncio\\base_events.py\", line 563, in run_forever\n",
      "    self._run_once()\n",
      "  File \"c:\\python38\\lib\\asyncio\\base_events.py\", line 1844, in _run_once\n",
      "    handle._run()\n",
      "  File \"c:\\python38\\lib\\asyncio\\events.py\", line 81, in _run\n",
      "    self._context.run(self._callback, *self._args)\n",
      "  File \"c:\\python38\\lib\\site-packages\\ipykernel\\kernelbase.py\", line 463, in dispatch_queue\n",
      "    self.log.exception(\"Error in message handler\")\n",
      "Message: 'Error in message handler'\n",
      "Arguments: ()\n"
     ]
    }
   ],
   "source": [
    "class A:\n",
    "    files = 'newfile'\n",
    "    name = 'huahua'\n",
    "    age = 18\n",
    "    mutex = threading.Lock()\n",
    "    @classmethod\n",
    "    def modify_class(cls):\n",
    "#         cls.files = 'newfile'\n",
    "        cls.mutex.acquire()\n",
    "        cls.name = 'xiaohua'\n",
    "        cls.mutex.release()\n",
    "    def __init__(self):\n",
    "        self.name = self.name\n",
    "#         self.name = 'rose'\n",
    "        self.mutex =self.mutex\n",
    "        self.modify_class()\n",
    "        self.mutex.acquire()\n",
    "        self.mutex.release()\n",
    "        \n",
    "a = A()"
   ]
  },
  {
   "cell_type": "code",
   "execution_count": 27,
   "id": "3ace62df",
   "metadata": {},
   "outputs": [
    {
     "name": "stdout",
     "output_type": "stream",
     "text": [
      "xiaohua : huahua\n"
     ]
    }
   ],
   "source": [
    "print(A.name,':',a.name)"
   ]
  },
  {
   "cell_type": "code",
   "execution_count": 23,
   "id": "e970e131",
   "metadata": {},
   "outputs": [
    {
     "name": "stdout",
     "output_type": "stream",
     "text": [
      "huahua\n"
     ]
    }
   ],
   "source": [
    "print(a.nickname)"
   ]
  },
  {
   "cell_type": "code",
   "execution_count": 24,
   "id": "efd635eb",
   "metadata": {},
   "outputs": [
    {
     "name": "stdout",
     "output_type": "stream",
     "text": [
      "newfile\n"
     ]
    }
   ],
   "source": [
    "print(a.files)"
   ]
  },
  {
   "cell_type": "code",
   "execution_count": 25,
   "id": "7cc1d337",
   "metadata": {},
   "outputs": [
    {
     "data": {
      "text/plain": [
       "'xiaohua'"
      ]
     },
     "execution_count": 25,
     "metadata": {},
     "output_type": "execute_result"
    }
   ],
   "source": [
    "a.name = 'xiaoli'\n",
    "A.name"
   ]
  },
  {
   "cell_type": "code",
   "execution_count": null,
   "id": "14ee7f35",
   "metadata": {},
   "outputs": [],
   "source": []
  }
 ],
 "metadata": {
  "kernelspec": {
   "display_name": "Python 3 (ipykernel)",
   "language": "python",
   "name": "python3"
  },
  "language_info": {
   "codemirror_mode": {
    "name": "ipython",
    "version": 3
   },
   "file_extension": ".py",
   "mimetype": "text/x-python",
   "name": "python",
   "nbconvert_exporter": "python",
   "pygments_lexer": "ipython3",
   "version": "3.8.0"
  }
 },
 "nbformat": 4,
 "nbformat_minor": 5
}
