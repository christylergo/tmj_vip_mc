{
 "cells": [
  {
   "cell_type": "code",
   "execution_count": 123,
   "id": "9a08c77e",
   "metadata": {},
   "outputs": [],
   "source": [
    "aa = ['条码', '日期', '销售量', '商品链接']\n",
    "cc = str.join('d',aa)"
   ]
  },
  {
   "cell_type": "code",
   "execution_count": 124,
   "id": "1d7d90c7",
   "metadata": {},
   "outputs": [
    {
     "data": {
      "text/plain": [
       "'条码d日期d销售量d商品链接'"
      ]
     },
     "execution_count": 124,
     "metadata": {},
     "output_type": "execute_result"
    }
   ],
   "source": [
    "cc"
   ]
  },
  {
   "cell_type": "code",
   "execution_count": null,
   "id": "cfc7a2d8",
   "metadata": {},
   "outputs": [],
   "source": []
  },
  {
   "cell_type": "code",
   "execution_count": null,
   "id": "94b89924",
   "metadata": {},
   "outputs": [],
   "source": []
  }
 ],
 "metadata": {
  "kernelspec": {
   "display_name": "Python 3 (ipykernel)",
   "language": "python",
   "name": "python3"
  },
  "language_info": {
   "codemirror_mode": {
    "name": "ipython",
    "version": 3
   },
   "file_extension": ".py",
   "mimetype": "text/x-python",
   "name": "python",
   "nbconvert_exporter": "python",
   "pygments_lexer": "ipython3",
   "version": "3.8.0"
  }
 },
 "nbformat": 4,
 "nbformat_minor": 5
}
