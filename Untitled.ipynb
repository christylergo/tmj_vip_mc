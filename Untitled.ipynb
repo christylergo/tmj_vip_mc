{
 "cells": [
  {
   "cell_type": "code",
   "execution_count": 1,
   "id": "37fa06c3",
   "metadata": {},
   "outputs": [],
   "source": [
    "import datetime"
   ]
  },
  {
   "cell_type": "code",
   "execution_count": 13,
   "id": "6b2826e8",
   "metadata": {},
   "outputs": [],
   "source": [
    "placeholder = None\n",
    "aa=zip([f'{datetime.date.today()- datetime.timedelta(days=i):%m/%d}' for i in range(7, 0, -1)],\n",
    "                             [[i, True, placeholder] for i in range(1, 8)])"
   ]
  },
  {
   "cell_type": "code",
   "execution_count": 16,
   "id": "af2b18e5",
   "metadata": {},
   "outputs": [],
   "source": [
    "daily_sales_week_title = [f'{datetime.date.today()- datetime.timedelta(days=i):%m/%d}' for i in range(7, 0, -1)]"
   ]
  },
  {
   "cell_type": "code",
   "execution_count": 17,
   "id": "2bd1a628",
   "metadata": {},
   "outputs": [
    {
     "data": {
      "text/plain": [
       "'05/10'"
      ]
     },
     "execution_count": 17,
     "metadata": {},
     "output_type": "execute_result"
    }
   ],
   "source": [
    "daily_sales_week_title[0]"
   ]
  },
  {
   "cell_type": "code",
   "execution_count": null,
   "id": "ab88568c",
   "metadata": {},
   "outputs": [],
   "source": []
  }
 ],
 "metadata": {
  "kernelspec": {
   "display_name": "Python 3 (ipykernel)",
   "language": "python",
   "name": "python3"
  },
  "language_info": {
   "codemirror_mode": {
    "name": "ipython",
    "version": 3
   },
   "file_extension": ".py",
   "mimetype": "text/x-python",
   "name": "python",
   "nbconvert_exporter": "python",
   "pygments_lexer": "ipython3",
   "version": "3.8.0"
  }
 },
 "nbformat": 4,
 "nbformat_minor": 5
}
